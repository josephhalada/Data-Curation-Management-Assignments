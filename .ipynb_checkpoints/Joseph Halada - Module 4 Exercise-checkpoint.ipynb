{
 "cells": [
  {
   "cell_type": "code",
   "execution_count": 1,
   "id": "1baa9071",
   "metadata": {},
   "outputs": [],
   "source": [
    "import numpy as np"
   ]
  },
  {
   "cell_type": "code",
   "execution_count": 2,
   "id": "e620cc17",
   "metadata": {},
   "outputs": [],
   "source": [
    "# create death data and convert to an array\n",
    "deaths_data = [[344, 2345], [4345, 253]]\n",
    "deaths_array = np.array(deaths_data)"
   ]
  },
  {
   "cell_type": "code",
   "execution_count": 3,
   "id": "fdd4d197",
   "metadata": {
    "scrolled": false
   },
   "outputs": [
    {
     "name": "stdout",
     "output_type": "stream",
     "text": [
      "344\n",
      "4345\n"
     ]
    }
   ],
   "source": [
    "print(deaths_array[0, 0])\n",
    "print(deaths_array[1,0])"
   ]
  },
  {
   "cell_type": "markdown",
   "id": "9226c11d",
   "metadata": {},
   "source": [
    "U.S. Deaths: 344 and 4345"
   ]
  },
  {
   "cell_type": "code",
   "execution_count": 4,
   "id": "e0d18d4c",
   "metadata": {},
   "outputs": [
    {
     "name": "stdout",
     "output_type": "stream",
     "text": [
      "2345\n",
      "253\n"
     ]
    }
   ],
   "source": [
    "print(deaths_array[0, 1])\n",
    "print(deaths_array[1,1])"
   ]
  },
  {
   "cell_type": "markdown",
   "id": "67f1d9bd",
   "metadata": {},
   "source": [
    "G.B. Deaths: 2345 and 253"
   ]
  },
  {
   "cell_type": "code",
   "execution_count": 5,
   "id": "bff3bc78",
   "metadata": {},
   "outputs": [
    {
     "name": "stdout",
     "output_type": "stream",
     "text": [
      "253\n"
     ]
    }
   ],
   "source": [
    "print(deaths_array[1,1])"
   ]
  },
  {
   "cell_type": "markdown",
   "id": "db359cd9",
   "metadata": {},
   "source": [
    "GB deaths in 2nd battle: 253"
   ]
  },
  {
   "cell_type": "code",
   "execution_count": 6,
   "id": "647949e1",
   "metadata": {},
   "outputs": [],
   "source": [
    "deaths_array.sort(0)"
   ]
  },
  {
   "cell_type": "markdown",
   "id": "5111133c",
   "metadata": {},
   "source": [
    "[[ 344  253]\n",
    " [4345 2345]]"
   ]
  },
  {
   "cell_type": "code",
   "execution_count": 7,
   "id": "b3b214e4",
   "metadata": {},
   "outputs": [],
   "source": [
    "deaths_array.sort(1)"
   ]
  },
  {
   "cell_type": "markdown",
   "id": "ddc5ec57",
   "metadata": {},
   "source": [
    "[[ 253  344]\n",
    " [2345 4345]]"
   ]
  },
  {
   "cell_type": "code",
   "execution_count": 8,
   "id": "99eae1fd",
   "metadata": {
    "scrolled": true
   },
   "outputs": [
    {
     "name": "stdout",
     "output_type": "stream",
     "text": [
      "[[ 253 2345]\n",
      " [ 344 4345]]\n"
     ]
    }
   ],
   "source": [
    "print(deaths_array.T)"
   ]
  },
  {
   "cell_type": "markdown",
   "id": "1b028b51",
   "metadata": {},
   "source": [
    "[[ 253 2345]\n",
    " [ 344 4345]]"
   ]
  },
  {
   "cell_type": "code",
   "execution_count": 9,
   "id": "00c48fdb",
   "metadata": {},
   "outputs": [
    {
     "data": {
      "text/plain": [
       "7287"
      ]
     },
     "execution_count": 9,
     "metadata": {},
     "output_type": "execute_result"
    }
   ],
   "source": [
    "deaths_array.sum()"
   ]
  },
  {
   "cell_type": "markdown",
   "id": "6a1692bc",
   "metadata": {},
   "source": [
    "Sum of all deaths: 7287"
   ]
  },
  {
   "cell_type": "code",
   "execution_count": 10,
   "id": "7bf7cb2d",
   "metadata": {},
   "outputs": [],
   "source": [
    "# redefining the array\n",
    "deaths_array = np.array(deaths_data)"
   ]
  },
  {
   "cell_type": "code",
   "execution_count": 11,
   "id": "ca4d40be",
   "metadata": {},
   "outputs": [],
   "source": [
    "deaths_array[1,1] = 2349"
   ]
  },
  {
   "cell_type": "markdown",
   "id": "1b86a71b",
   "metadata": {},
   "source": [
    "Array with updated battle 2 GB deaths.\n",
    "array([[ 344, 2345],\n",
    "       [4345, 2349]])"
   ]
  }
 ],
 "metadata": {
  "kernelspec": {
   "display_name": "Python 3 (ipykernel)",
   "language": "python",
   "name": "python3"
  },
  "language_info": {
   "codemirror_mode": {
    "name": "ipython",
    "version": 3
   },
   "file_extension": ".py",
   "mimetype": "text/x-python",
   "name": "python",
   "nbconvert_exporter": "python",
   "pygments_lexer": "ipython3",
   "version": "3.9.7"
  }
 },
 "nbformat": 4,
 "nbformat_minor": 5
}
